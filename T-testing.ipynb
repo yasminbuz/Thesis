{
 "cells": [
  {
   "cell_type": "code",
   "execution_count": null,
   "metadata": {},
   "outputs": [],
   "source": [
    "import PyQt5\n",
    "%matplotlib qt\n",
    "%matplotlib inline\n",
    "\n",
    "import numpy as np\n",
    "import pandas as pd \n",
    "\n",
    "import mne\n",
    "from mne import io\n",
    "from mne.stats import permutation_t_test\n",
    "from mne.datasets import sample\n"
   ]
  },
  {
   "cell_type": "markdown",
   "metadata": {},
   "source": [
    "### Load Data "
   ]
  },
  {
   "cell_type": "code",
   "execution_count": null,
   "metadata": {},
   "outputs": [],
   "source": [
    "# T-Testing in MNE: https://mne.tools/stable/auto_examples/stats/plot_sensor_permutation_test.html#sphx-glr-auto-examples-stats-plot-sensor-permutation-test-py\n",
    "# Matlab: https://www.fieldtriptoolbox.org/workshop/oslo2019/statistics/\n",
    "\n",
    "data = pd.read_csv('light.csv', header=None, usecols=[*range(0,150000)]) \n",
    "\n",
    "\n",
    "\n"
   ]
  },
  {
   "cell_type": "code",
   "execution_count": null,
   "metadata": {},
   "outputs": [],
   "source": [
    "ch1 = ['FEF','vlPFC','PPC','STG','RAntThal all Bipolars', \n",
    "            'RPostThal all Bipolars','LAntThal all Bipolars','LPostThal all Bipolars']\n",
    "\n",
    "n_channels = 8\n",
    "sfreq = 1000 \n",
    "\n",
    "#row 2 is with EEG parameter\n",
    "info2 = mne.create_info(ch_names = ch1, sfreq = sfreq, ch_types='eeg')\n",
    "raw2 = mne.io.RawArray(data, info2)\n",
    "raw2.info"
   ]
  },
  {
   "cell_type": "markdown",
   "metadata": {},
   "source": [
    "#### Set Parameters"
   ]
  },
  {
   "cell_type": "code",
   "execution_count": null,
   "metadata": {},
   "outputs": [],
   "source": [
    "picks1 = mne.pick_types(raw2.info, eeg=True, eog=False,\n",
    "                       stim=False, exclude='bads')\n",
    "tmin= -0.2\n",
    "tmax= 0.5\n",
    "\n",
    "\n",
    "events = mne.find_events(raw2, stim_channel='STG', shortest_event=1)\n",
    "epochs = mne.Epochs(raw2,events, picks=picks1,\n",
    "                    preload=True)\n"
   ]
  },
  {
   "cell_type": "code",
   "execution_count": null,
   "metadata": {},
   "outputs": [],
   "source": [
    "data = epochs.get_data()\n",
    "times = epochs.times\n"
   ]
  },
  {
   "cell_type": "code",
   "execution_count": null,
   "metadata": {},
   "outputs": [],
   "source": [
    "temporal_mask = np.logical_and(0.04 <= times, times <= 0.06)\n",
    "data = np.mean(data[:, :, temporal_mask], axis=2)\n"
   ]
  },
  {
   "cell_type": "code",
   "execution_count": null,
   "metadata": {},
   "outputs": [],
   "source": [
    "#n_permutations = 50000\n",
    "n_permutations = 10000\n",
    "T0, p_values, H0 = permutation_t_test(data, n_permutations, n_jobs=1)\n"
   ]
  },
  {
   "cell_type": "code",
   "execution_count": null,
   "metadata": {},
   "outputs": [],
   "source": [
    "significance = picks1[p_values <= 0.05]\n",
    "significant_names = [raw2.ch_names[k] for k in significance]"
   ]
  },
  {
   "cell_type": "code",
   "execution_count": null,
   "metadata": {},
   "outputs": [],
   "source": [
    "print (\"T Test Obtained for multiple comparison\")\n",
    "print (H0) # T statistic obtained by permutations and t-max trick for multiple comparison\n",
    "print(\"\\n\")\n",
    "print (\"T statistic for all variables\")\n",
    "print (T0) # T-statistic observed for all variables \n",
    "print(\"\\n\")\n",
    "print (\"P values for all tests\")\n",
    "print (p_values) # p values for all tests "
   ]
  },
  {
   "cell_type": "code",
   "execution_count": null,
   "metadata": {},
   "outputs": [],
   "source": []
  },
  {
   "cell_type": "code",
   "execution_count": null,
   "metadata": {},
   "outputs": [],
   "source": []
  }
 ],
 "metadata": {
  "kernelspec": {
   "display_name": "Python [conda env:myenv] *",
   "language": "python",
   "name": "conda-env-myenv-py"
  },
  "language_info": {
   "codemirror_mode": {
    "name": "ipython",
    "version": 3
   },
   "file_extension": ".py",
   "mimetype": "text/x-python",
   "name": "python",
   "nbconvert_exporter": "python",
   "pygments_lexer": "ipython3",
   "version": "3.7.5"
  }
 },
 "nbformat": 4,
 "nbformat_minor": 2
}
