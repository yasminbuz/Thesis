{
 "cells": [
  {
   "cell_type": "code",
   "execution_count": 27,
   "metadata": {},
   "outputs": [],
   "source": [
    "import PyQt5\n",
    "%matplotlib qt\n",
    "%matplotlib inline\n",
    "import mne\n",
    "\n",
    "#import scipy.io as sio\n",
    "#very_large = sio.loadmat('dataMatrixAlignedDrugOnset_mr. Jones_09-May-2016 (3).mat')"
   ]
  },
  {
   "cell_type": "code",
   "execution_count": 32,
   "metadata": {},
   "outputs": [
    {
     "name": "stderr",
     "output_type": "stream",
     "text": [
      "<ipython-input-32-f49b9adb1c2e>:2: RuntimeWarning: Importing FieldTrip data without an info dict from the original file. Channel locations, orientations and types will be incorrect. The imported data cannot be used for source analysis, channel interpolation etc.\n",
      "  cleandataEpoch1 = mne.read_epochs_fieldtrip('cleandataEpoch1.mat', info=None, data_name= 'cleandataEpoch1')\n",
      "<ipython-input-32-f49b9adb1c2e>:2: RuntimeWarning: 2 channel names are too long, have been truncated to 15 characters:\n",
      "['RAntThal all Bipolars', 'RPostThal all Bipolars']\n",
      "  cleandataEpoch1 = mne.read_epochs_fieldtrip('cleandataEpoch1.mat', info=None, data_name= 'cleandataEpoch1')\n",
      "<ipython-input-32-f49b9adb1c2e>:2: RuntimeWarning: The supplied FieldTrip structure does not have an elec or grad field. No channel locations will extracted and the kind of channel might be inaccurate.\n",
      "  cleandataEpoch1 = mne.read_epochs_fieldtrip('cleandataEpoch1.mat', info=None, data_name= 'cleandataEpoch1')\n",
      "<ipython-input-32-f49b9adb1c2e>:2: RuntimeWarning: Cannot guess the correct type of channel FEF. Making it a MISC channel.\n",
      "  cleandataEpoch1 = mne.read_epochs_fieldtrip('cleandataEpoch1.mat', info=None, data_name= 'cleandataEpoch1')\n",
      "<ipython-input-32-f49b9adb1c2e>:2: RuntimeWarning: Cannot guess the correct type of channel vlPFC. Making it a MISC channel.\n",
      "  cleandataEpoch1 = mne.read_epochs_fieldtrip('cleandataEpoch1.mat', info=None, data_name= 'cleandataEpoch1')\n",
      "<ipython-input-32-f49b9adb1c2e>:2: RuntimeWarning: Cannot guess the correct type of channel PPC. Making it a MISC channel.\n",
      "  cleandataEpoch1 = mne.read_epochs_fieldtrip('cleandataEpoch1.mat', info=None, data_name= 'cleandataEpoch1')\n",
      "<ipython-input-32-f49b9adb1c2e>:2: RuntimeWarning: Cannot guess the correct type of channel STG. Making it a MISC channel.\n",
      "  cleandataEpoch1 = mne.read_epochs_fieldtrip('cleandataEpoch1.mat', info=None, data_name= 'cleandataEpoch1')\n",
      "<ipython-input-32-f49b9adb1c2e>:2: RuntimeWarning: Cannot guess the correct type of channel RAntThal all Bipolars. Making it a MISC channel.\n",
      "  cleandataEpoch1 = mne.read_epochs_fieldtrip('cleandataEpoch1.mat', info=None, data_name= 'cleandataEpoch1')\n",
      "<ipython-input-32-f49b9adb1c2e>:2: RuntimeWarning: Cannot guess the correct type of channel RPostThal all Bipolars. Making it a MISC channel.\n",
      "  cleandataEpoch1 = mne.read_epochs_fieldtrip('cleandataEpoch1.mat', info=None, data_name= 'cleandataEpoch1')\n"
     ]
    },
    {
     "ename": "IndexError",
     "evalue": "invalid index to scalar variable.",
     "output_type": "error",
     "traceback": [
      "\u001b[0;31m---------------------------------------------------------------------------\u001b[0m",
      "\u001b[0;31mIndexError\u001b[0m                                Traceback (most recent call last)",
      "\u001b[0;32m<ipython-input-32-f49b9adb1c2e>\u001b[0m in \u001b[0;36m<module>\u001b[0;34m\u001b[0m\n\u001b[1;32m      1\u001b[0m \u001b[0;31m#cleandataEpoch1 = mne.read_epochs_fieldtrip('cleandataEpoch1.mat', info='none', data_name= p1,trialinfo_column=0)\u001b[0m\u001b[0;34m\u001b[0m\u001b[0;34m\u001b[0m\u001b[0;34m\u001b[0m\u001b[0m\n\u001b[0;32m----> 2\u001b[0;31m \u001b[0mcleandataEpoch1\u001b[0m \u001b[0;34m=\u001b[0m \u001b[0mmne\u001b[0m\u001b[0;34m.\u001b[0m\u001b[0mread_epochs_fieldtrip\u001b[0m\u001b[0;34m(\u001b[0m\u001b[0;34m'cleandataEpoch1.mat'\u001b[0m\u001b[0;34m,\u001b[0m \u001b[0minfo\u001b[0m\u001b[0;34m=\u001b[0m\u001b[0;32mNone\u001b[0m\u001b[0;34m,\u001b[0m \u001b[0mdata_name\u001b[0m\u001b[0;34m=\u001b[0m \u001b[0;34m'cleandataEpoch1'\u001b[0m\u001b[0;34m)\u001b[0m\u001b[0;34m\u001b[0m\u001b[0;34m\u001b[0m\u001b[0m\n\u001b[0m",
      "\u001b[0;32m~/opt/anaconda3/envs/myenv/lib/python3.7/site-packages/mne/io/fieldtrip/fieldtrip.py\u001b[0m in \u001b[0;36mread_epochs_fieldtrip\u001b[0;34m(fname, info, data_name, trialinfo_column)\u001b[0m\n\u001b[1;32m    125\u001b[0m     \u001b[0;32melse\u001b[0m\u001b[0;34m:\u001b[0m\u001b[0;34m\u001b[0m\u001b[0;34m\u001b[0m\u001b[0m\n\u001b[1;32m    126\u001b[0m         \u001b[0mmetadata\u001b[0m \u001b[0;34m=\u001b[0m \u001b[0;32mNone\u001b[0m\u001b[0;34m\u001b[0m\u001b[0;34m\u001b[0m\u001b[0m\n\u001b[0;32m--> 127\u001b[0;31m     \u001b[0mtmin\u001b[0m \u001b[0;34m=\u001b[0m \u001b[0m_set_tmin\u001b[0m\u001b[0;34m(\u001b[0m\u001b[0mft_struct\u001b[0m\u001b[0;34m)\u001b[0m  \u001b[0;31m# create start time\u001b[0m\u001b[0;34m\u001b[0m\u001b[0;34m\u001b[0m\u001b[0m\n\u001b[0m\u001b[1;32m    128\u001b[0m \u001b[0;34m\u001b[0m\u001b[0m\n\u001b[1;32m    129\u001b[0m     epochs = EpochsArray(data=data, info=info, tmin=tmin,\n",
      "\u001b[0;32m~/opt/anaconda3/envs/myenv/lib/python3.7/site-packages/mne/io/fieldtrip/utils.py\u001b[0m in \u001b[0;36m_set_tmin\u001b[0;34m(ft_struct)\u001b[0m\n\u001b[1;32m    223\u001b[0m     \u001b[0mtimes\u001b[0m \u001b[0;34m=\u001b[0m \u001b[0mft_struct\u001b[0m\u001b[0;34m[\u001b[0m\u001b[0;34m'time'\u001b[0m\u001b[0;34m]\u001b[0m\u001b[0;34m\u001b[0m\u001b[0;34m\u001b[0m\u001b[0m\n\u001b[1;32m    224\u001b[0m     time_check = all(times[i][0] == times[i - 1][0]\n\u001b[0;32m--> 225\u001b[0;31m                      for i, x in enumerate(times))\n\u001b[0m\u001b[1;32m    226\u001b[0m     \u001b[0;32mif\u001b[0m \u001b[0mtime_check\u001b[0m\u001b[0;34m:\u001b[0m\u001b[0;34m\u001b[0m\u001b[0;34m\u001b[0m\u001b[0m\n\u001b[1;32m    227\u001b[0m         \u001b[0mtmin\u001b[0m \u001b[0;34m=\u001b[0m \u001b[0mtimes\u001b[0m\u001b[0;34m[\u001b[0m\u001b[0;36m0\u001b[0m\u001b[0;34m]\u001b[0m\u001b[0;34m[\u001b[0m\u001b[0;36m0\u001b[0m\u001b[0;34m]\u001b[0m\u001b[0;34m\u001b[0m\u001b[0;34m\u001b[0m\u001b[0m\n",
      "\u001b[0;32m~/opt/anaconda3/envs/myenv/lib/python3.7/site-packages/mne/io/fieldtrip/utils.py\u001b[0m in \u001b[0;36m<genexpr>\u001b[0;34m(.0)\u001b[0m\n\u001b[1;32m    223\u001b[0m     \u001b[0mtimes\u001b[0m \u001b[0;34m=\u001b[0m \u001b[0mft_struct\u001b[0m\u001b[0;34m[\u001b[0m\u001b[0;34m'time'\u001b[0m\u001b[0;34m]\u001b[0m\u001b[0;34m\u001b[0m\u001b[0;34m\u001b[0m\u001b[0m\n\u001b[1;32m    224\u001b[0m     time_check = all(times[i][0] == times[i - 1][0]\n\u001b[0;32m--> 225\u001b[0;31m                      for i, x in enumerate(times))\n\u001b[0m\u001b[1;32m    226\u001b[0m     \u001b[0;32mif\u001b[0m \u001b[0mtime_check\u001b[0m\u001b[0;34m:\u001b[0m\u001b[0;34m\u001b[0m\u001b[0;34m\u001b[0m\u001b[0m\n\u001b[1;32m    227\u001b[0m         \u001b[0mtmin\u001b[0m \u001b[0;34m=\u001b[0m \u001b[0mtimes\u001b[0m\u001b[0;34m[\u001b[0m\u001b[0;36m0\u001b[0m\u001b[0;34m]\u001b[0m\u001b[0;34m[\u001b[0m\u001b[0;36m0\u001b[0m\u001b[0;34m]\u001b[0m\u001b[0;34m\u001b[0m\u001b[0;34m\u001b[0m\u001b[0m\n",
      "\u001b[0;31mIndexError\u001b[0m: invalid index to scalar variable."
     ]
    }
   ],
   "source": [
    "\n",
    "\n",
    "#cleandataEpoch1 = mne.read_epochs_fieldtrip('cleandataEpoch1.mat', info='none', data_name= p1,trialinfo_column=0)\n",
    "cleandataEpoch1 = mne.read_epochs_fieldtrip('cleandataEpoch1.mat', info=None, data_name= 'cleandataEpoch1')"
   ]
  },
  {
   "cell_type": "code",
   "execution_count": null,
   "metadata": {},
   "outputs": [],
   "source": [
    "import h5py\n",
    "f = h5py.File('dataMatrixAlignedDrugOnset_mr. Jones_09-May-2016 (3).mat')\n",
    "\n",
    "\n"
   ]
  },
  {
   "cell_type": "code",
   "execution_count": null,
   "metadata": {},
   "outputs": [],
   "source": [
    "(f)"
   ]
  },
  {
   "cell_type": "code",
   "execution_count": null,
   "metadata": {},
   "outputs": [],
   "source": [
    "\n",
    "\n",
    "data_from_ft = mne.read_evoked_fieldtrip('evoked_data.mat', original_info)"
   ]
  },
  {
   "cell_type": "code",
   "execution_count": null,
   "metadata": {},
   "outputs": [],
   "source": []
  },
  {
   "cell_type": "code",
   "execution_count": null,
   "metadata": {},
   "outputs": [],
   "source": []
  }
 ],
 "metadata": {
  "kernelspec": {
   "display_name": "Python 3",
   "language": "python",
   "name": "python3"
  },
  "language_info": {
   "codemirror_mode": {
    "name": "ipython",
    "version": 3
   },
   "file_extension": ".py",
   "mimetype": "text/x-python",
   "name": "python",
   "nbconvert_exporter": "python",
   "pygments_lexer": "ipython3",
   "version": "3.7.5"
  }
 },
 "nbformat": 4,
 "nbformat_minor": 2
}
