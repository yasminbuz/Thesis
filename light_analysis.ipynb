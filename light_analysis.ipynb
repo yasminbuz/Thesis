{
 "cells": [
  {
   "cell_type": "markdown",
   "metadata": {},
   "source": [
    "## Importing to MNE "
   ]
  },
  {
   "cell_type": "code",
   "execution_count": null,
   "metadata": {},
   "outputs": [],
   "source": [
    "import PyQt5\n",
    "%matplotlib qt\n",
    "%matplotlib inline\n",
    "import mne\n",
    "import numpy as np\n",
    "import pandas as pd \n",
    "from mne import io, read_proj, read_selection\n",
    "from mne.time_frequency import tfr_morlet, psd_multitaper, psd_welch\n",
    "from mne.datasets import somato\n",
    "import matplotlib.pyplot as plt\n"
   ]
  },
  {
   "cell_type": "markdown",
   "metadata": {},
   "source": [
    "### Loading Data"
   ]
  },
  {
   "cell_type": "code",
   "execution_count": null,
   "metadata": {},
   "outputs": [],
   "source": [
    "### Main time segments of data \n",
    "\n",
    "# awake: 400,000 to 900,000 ms\n",
    "# light: 950,000 to 1,100,000 ms\n",
    "# general: 1,100,000 to 1,400,000 ms\n",
    "# deep: 1,500,000 to 2,000,000 ms\n",
    "\n",
    "data = pd.read_csv('light.csv', header=None, usecols=[*range(0,150000)]) \n",
    "ch1 = ['FEF','vlPFC','PPC','STG','RAntThal all Bipolars', \n",
    "            'RPostThal all Bipolars','LAntThal all Bipolars','LPostThal all Bipolars']\n",
    "n_channels = 8\n",
    "sfreq = 1000 \n",
    "\n",
    "info = mne.create_info(ch_names = ch1, sfreq = sfreq)\n",
    "raw = mne.io.RawArray(data, info)\n",
    "\n",
    "#row 2 is with EEG parameter\n",
    "info2 = mne.create_info(ch_names = ch1, sfreq = sfreq, ch_types='eeg')\n",
    "raw2 = mne.io.RawArray(data, info2)\n",
    "\n",
    "\n",
    "raw2.info"
   ]
  },
  {
   "cell_type": "code",
   "execution_count": null,
   "metadata": {},
   "outputs": [],
   "source": [
    "raw2.plot()"
   ]
  },
  {
   "cell_type": "markdown",
   "metadata": {},
   "source": [
    "## Pre Processing\n"
   ]
  },
  {
   "cell_type": "markdown",
   "metadata": {},
   "source": [
    "#### Fast Fourier Transform\n"
   ]
  },
  {
   "cell_type": "code",
   "execution_count": null,
   "metadata": {},
   "outputs": [],
   "source": [
    "\n",
    "fmin, fmax = 2, 60  # look at frequencies between 2 and 300Hz\n",
    "n_fft = 2048  # the FFT size (n_fft). Ideally a power of 2\n",
    "\n",
    "picks1 = mne.pick_types(raw2.info, eeg=True, eog=False,\n",
    "                       stim=False, exclude='bads')\n",
    "\n",
    "fft= raw2.plot_psd(area_mode='range', tmax=10.0, picks=picks1, average=False)"
   ]
  },
  {
   "cell_type": "markdown",
   "metadata": {},
   "source": [
    "#### Remove power line noise with notch filtering "
   ]
  },
  {
   "cell_type": "code",
   "execution_count": null,
   "metadata": {},
   "outputs": [],
   "source": [
    "raw2.notch_filter(np.arange(60, 241, 60), picks=picks1, filter_length='auto',\n",
    "                 phase='zero')\n",
    "\n",
    "notch = raw2.plot_psd(area_mode='range', tmax=10.0, picks=picks1, average=False)"
   ]
  },
  {
   "cell_type": "markdown",
   "metadata": {},
   "source": [
    "#### Remove power line noise with low pass filtering "
   ]
  },
  {
   "cell_type": "code",
   "execution_count": null,
   "metadata": {},
   "outputs": [],
   "source": [
    "# low pass filtering below 50 Hz\n",
    "raw2.filter(None, 50., fir_design='firwin')  # re-do in the morning \n",
    "\n",
    "low_pass = raw2.plot_psd(area_mode='range', tmax=10.0,picks=picks1, average=False)"
   ]
  },
  {
   "cell_type": "markdown",
   "metadata": {},
   "source": [
    "#### Apply Band Pass Filter - applies both high pass and low pass filters"
   ]
  },
  {
   "cell_type": "code",
   "execution_count": null,
   "metadata": {},
   "outputs": [],
   "source": [
    "raw2.filter(1, 50., fir_design='firwin')\n",
    "\n",
    "bandpass= raw2.plot_psd(area_mode='range', tmax=10.0,picks=picks1, average=False)"
   ]
  },
  {
   "cell_type": "markdown",
   "metadata": {},
   "source": [
    "#### Using multitaper spectrum estimation with 7 DPSS windows\n"
   ]
  },
  {
   "cell_type": "code",
   "execution_count": null,
   "metadata": {},
   "outputs": [],
   "source": [
    "events = mne.find_events(raw2, stim_channel='vlPFC', shortest_event=1 )\n",
    "\n",
    "epochs = mne.Epochs(raw2,events, picks=picks1,\n",
    "                    preload=True)\n",
    "\n",
    "epochs.plot_psd(fmin=2., fmax=40., average=True, spatial_colors=False)"
   ]
  },
  {
   "cell_type": "markdown",
   "metadata": {},
   "source": [
    "#### Using Morlet Wavelets\n"
   ]
  },
  {
   "cell_type": "code",
   "execution_count": null,
   "metadata": {},
   "outputs": [],
   "source": [
    "frequencies = np.arange(7, 30, 3)\n",
    "power = mne.time_frequency.tfr_morlet(epochs, n_cycles=2, return_itc=False,\n",
    "                                      freqs=frequencies, decim=3)"
   ]
  },
  {
   "cell_type": "code",
   "execution_count": null,
   "metadata": {},
   "outputs": [],
   "source": [
    "power.plot(['FEF'])"
   ]
  },
  {
   "cell_type": "code",
   "execution_count": null,
   "metadata": {},
   "outputs": [],
   "source": [
    "# For analysis: https://mne.tools/dev/auto_tutorials/time-freq/plot_sensors_time_frequency.html#inter-trial-coherence\n",
    "\n",
    "\n",
    "# define frequencies of interest (log-spaced)\n",
    "freqs = np.logspace(*np.log10([6, 35]), num=8)\n",
    "n_cycles = freqs / 5.  # different number of cycle per frequency\n",
    "\n",
    "power, itc = tfr_morlet(epochs, freqs=freqs, n_cycles=n_cycles, use_fft=True,\n",
    "                        return_itc=True, decim=3, n_jobs=1, output= 'power')"
   ]
  },
  {
   "cell_type": "markdown",
   "metadata": {},
   "source": [
    "#### Plot Power from Wavelet Analysis"
   ]
  },
  {
   "cell_type": "code",
   "execution_count": null,
   "metadata": {},
   "outputs": [],
   "source": [
    "#power.plot_topo(baseline=(-0.5, 0), mode='logratio', title='Average power')\n",
    "power.plot([1], baseline=(-0.5, 0), mode='logratio',)"
   ]
  },
  {
   "cell_type": "code",
   "execution_count": null,
   "metadata": {},
   "outputs": [],
   "source": [
    "power.plot_joint(baseline=(-0.5, 0), mode='mean', tmin=-.5, tmax=2,\n",
    "                 timefreqs=[(.5, 10), (1.3, 8)])"
   ]
  },
  {
   "cell_type": "code",
   "execution_count": null,
   "metadata": {},
   "outputs": [],
   "source": [
    "raw2.info"
   ]
  },
  {
   "cell_type": "code",
   "execution_count": null,
   "metadata": {},
   "outputs": [],
   "source": [
    "# inspect powerplot: https://mne.tools/0.15/auto_tutorials/plot_sensors_time_frequency.html"
   ]
  },
  {
   "cell_type": "code",
   "execution_count": null,
   "metadata": {},
   "outputs": [],
   "source": [
    "power.plot_topo(baseline=(-0.5, 0), mode='logratio', title='Average power')\n",
    "power.plot([82], baseline=(-0.5, 0), mode='logratio', title=power.ch_names[82])\n",
    "\n",
    "fig, axis = plt.subplots(1, 2, figsize=(7, 4))\n",
    "power.plot_topomap(ch_type='grad', tmin=0.5, tmax=1.5, fmin=8, fmax=12,\n",
    "                   baseline=(-0.5, 0), mode='logratio', axes=axis[0],\n",
    "                   title='Alpha', vmax=0.45, show=False)\n",
    "power.plot_topomap(ch_type='grad', tmin=0.5, tmax=1.5, fmin=13, fmax=25,\n",
    "                   baseline=(-0.5, 0), mode='logratio', axes=axis[1],\n",
    "                   title='Beta', vmax=0.45, show=False)\n",
    "mne.viz.tight_layout()\n",
    "plt.show()"
   ]
  },
  {
   "cell_type": "code",
   "execution_count": null,
   "metadata": {},
   "outputs": [],
   "source": []
  }
 ],
 "metadata": {
  "kernelspec": {
   "display_name": "Python [conda env:myenv] *",
   "language": "python",
   "name": "conda-env-myenv-py"
  },
  "language_info": {
   "codemirror_mode": {
    "name": "ipython",
    "version": 3
   },
   "file_extension": ".py",
   "mimetype": "text/x-python",
   "name": "python",
   "nbconvert_exporter": "python",
   "pygments_lexer": "ipython3",
   "version": "3.7.5"
  }
 },
 "nbformat": 4,
 "nbformat_minor": 2
}
